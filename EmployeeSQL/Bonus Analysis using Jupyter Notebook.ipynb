{
 "cells": [
  {
   "cell_type": "markdown",
   "id": "2aa71ca1",
   "metadata": {},
   "source": [
    "## Analysis"
   ]
  },
  {
   "cell_type": "markdown",
   "id": "3e698308",
   "metadata": {},
   "source": [
    "-A **primary key's** main features are:\n",
    "- It must contain a unique value for each row of data.\n",
    "- It cannot contain null values.\n",
    "- Every row must have a primary key value."
   ]
  },
  {
   "cell_type": "markdown",
   "id": "c064c64a",
   "metadata": {},
   "source": [
    "Hence, in order to find primary keys for all the tables imported, with the purpose of data modelling, I will import all the csv files in the jupyter and make some calculations using python codes in an attempt to find any potential duplicates or null values in the columns."
   ]
  },
  {
   "cell_type": "code",
   "execution_count": 51,
   "id": "9a989122",
   "metadata": {},
   "outputs": [],
   "source": [
    "#importing dependencies\n",
    "import pandas as pd\n",
    "from pathlib import Path"
   ]
  },
  {
   "cell_type": "markdown",
   "id": "95c346af",
   "metadata": {},
   "source": [
    "## 1. departments table"
   ]
  },
  {
   "cell_type": "code",
   "execution_count": 52,
   "id": "d8bc939c",
   "metadata": {},
   "outputs": [],
   "source": [
    "# Finding path to the CSV file\n",
    "file = Path('Resources/departments.csv')"
   ]
  },
  {
   "cell_type": "code",
   "execution_count": 53,
   "id": "0c1ff540",
   "metadata": {},
   "outputs": [],
   "source": [
    "# reading the CSV in pandas\n",
    "departments_df = pd.read_csv(file, encoding=\"ISO-8859-1\")"
   ]
  },
  {
   "cell_type": "code",
   "execution_count": 54,
   "id": "8df4ccee",
   "metadata": {},
   "outputs": [
    {
     "name": "stdout",
     "output_type": "stream",
     "text": [
      "<class 'pandas.core.frame.DataFrame'>\n",
      "RangeIndex: 9 entries, 0 to 8\n",
      "Data columns (total 2 columns):\n",
      " #   Column     Non-Null Count  Dtype \n",
      "---  ------     --------------  ----- \n",
      " 0   dept_no    9 non-null      object\n",
      " 1   dept_name  9 non-null      object\n",
      "dtypes: object(2)\n",
      "memory usage: 272.0+ bytes\n"
     ]
    }
   ],
   "source": [
    "departments_df.info()"
   ]
  },
  {
   "cell_type": "code",
   "execution_count": 55,
   "id": "fe25fe86",
   "metadata": {
    "scrolled": true
   },
   "outputs": [
    {
     "name": "stdout",
     "output_type": "stream",
     "text": [
      "Series([], Name: dept_no, dtype: object)\n"
     ]
    }
   ],
   "source": [
    "# Check for duplicates in a \"departments\" dataframe in \"dept_no\" column\n",
    "duplicates = departments_df[departments_df.duplicated(subset='dept_no', keep=False)]\n",
    "\n",
    "# Print the duplicate values\n",
    "print(duplicates['dept_no'])"
   ]
  },
  {
   "cell_type": "markdown",
   "id": "1e06638b",
   "metadata": {},
   "source": [
    "### Analysis"
   ]
  },
  {
   "cell_type": "markdown",
   "id": "961f9b60",
   "metadata": {},
   "source": [
    "Based on the calculations, we see that there are no null values in the departments table and also dept_no has no duplicates making it eligible for a primary key. **Hence 'dept_no' is our primary key in the departments table.**"
   ]
  },
  {
   "cell_type": "markdown",
   "id": "356fae75",
   "metadata": {},
   "source": [
    "## 2. titles table"
   ]
  },
  {
   "cell_type": "code",
   "execution_count": 56,
   "id": "86f9e5f6",
   "metadata": {},
   "outputs": [],
   "source": [
    "# Finding path to the CSV file\n",
    "file = Path('Resources/titles.csv')"
   ]
  },
  {
   "cell_type": "code",
   "execution_count": 57,
   "id": "9e83455d",
   "metadata": {},
   "outputs": [],
   "source": [
    "# reading the CSV in pandas\n",
    "titles_df = pd.read_csv(file, encoding=\"ISO-8859-1\")"
   ]
  },
  {
   "cell_type": "code",
   "execution_count": 58,
   "id": "17d74020",
   "metadata": {
    "scrolled": true
   },
   "outputs": [
    {
     "name": "stdout",
     "output_type": "stream",
     "text": [
      "<class 'pandas.core.frame.DataFrame'>\n",
      "RangeIndex: 7 entries, 0 to 6\n",
      "Data columns (total 2 columns):\n",
      " #   Column       Non-Null Count  Dtype \n",
      "---  ------       --------------  ----- \n",
      " 0   ï»¿title_id  7 non-null      object\n",
      " 1   title        7 non-null      object\n",
      "dtypes: object(2)\n",
      "memory usage: 240.0+ bytes\n"
     ]
    }
   ],
   "source": [
    "titles_df.info()"
   ]
  },
  {
   "cell_type": "code",
   "execution_count": 59,
   "id": "ccd44cec",
   "metadata": {},
   "outputs": [
    {
     "name": "stdout",
     "output_type": "stream",
     "text": [
      "<class 'pandas.core.frame.DataFrame'>\n",
      "RangeIndex: 7 entries, 0 to 6\n",
      "Data columns (total 2 columns):\n",
      " #   Column       Non-Null Count  Dtype \n",
      "---  ------       --------------  ----- \n",
      " 0   ï»¿title_id  7 non-null      object\n",
      " 1   title        7 non-null      object\n",
      "dtypes: object(2)\n",
      "memory usage: 240.0+ bytes\n"
     ]
    }
   ],
   "source": [
    "titles_df.info()"
   ]
  },
  {
   "cell_type": "code",
   "execution_count": 60,
   "id": "b1c6247c",
   "metadata": {},
   "outputs": [
    {
     "data": {
      "text/html": [
       "<div>\n",
       "<style scoped>\n",
       "    .dataframe tbody tr th:only-of-type {\n",
       "        vertical-align: middle;\n",
       "    }\n",
       "\n",
       "    .dataframe tbody tr th {\n",
       "        vertical-align: top;\n",
       "    }\n",
       "\n",
       "    .dataframe thead th {\n",
       "        text-align: right;\n",
       "    }\n",
       "</style>\n",
       "<table border=\"1\" class=\"dataframe\">\n",
       "  <thead>\n",
       "    <tr style=\"text-align: right;\">\n",
       "      <th></th>\n",
       "      <th>ï»¿title_id</th>\n",
       "      <th>title</th>\n",
       "    </tr>\n",
       "  </thead>\n",
       "  <tbody>\n",
       "    <tr>\n",
       "      <th>0</th>\n",
       "      <td>s0001</td>\n",
       "      <td>Staff</td>\n",
       "    </tr>\n",
       "    <tr>\n",
       "      <th>1</th>\n",
       "      <td>s0002</td>\n",
       "      <td>Senior Staff</td>\n",
       "    </tr>\n",
       "    <tr>\n",
       "      <th>2</th>\n",
       "      <td>e0001</td>\n",
       "      <td>Assistant Engineer</td>\n",
       "    </tr>\n",
       "    <tr>\n",
       "      <th>3</th>\n",
       "      <td>e0002</td>\n",
       "      <td>Engineer</td>\n",
       "    </tr>\n",
       "    <tr>\n",
       "      <th>4</th>\n",
       "      <td>e0003</td>\n",
       "      <td>Senior Engineer</td>\n",
       "    </tr>\n",
       "  </tbody>\n",
       "</table>\n",
       "</div>"
      ],
      "text/plain": [
       "  ï»¿title_id               title\n",
       "0       s0001               Staff\n",
       "1       s0002        Senior Staff\n",
       "2       e0001  Assistant Engineer\n",
       "3       e0002            Engineer\n",
       "4       e0003     Senior Engineer"
      ]
     },
     "execution_count": 60,
     "metadata": {},
     "output_type": "execute_result"
    }
   ],
   "source": [
    "titles_df.head()"
   ]
  },
  {
   "cell_type": "markdown",
   "id": "a69919e1",
   "metadata": {},
   "source": [
    "## Analysis"
   ]
  },
  {
   "cell_type": "markdown",
   "id": "94667d2a",
   "metadata": {},
   "source": [
    "Based on the calculations, we see that there are no null values in the titles table and also if we see by ourselves, we find that title_id has no duplicates making it eligible for a primary key. **Hence 'title_id' is our primary key in the titles table.**"
   ]
  },
  {
   "cell_type": "markdown",
   "id": "07e62d34",
   "metadata": {},
   "source": [
    "## 3. dept_emp table"
   ]
  },
  {
   "cell_type": "code",
   "execution_count": 61,
   "id": "0680a8c9",
   "metadata": {},
   "outputs": [],
   "source": [
    "# Finding path to the CSV file\n",
    "file = Path('Resources/dept_emp.csv')"
   ]
  },
  {
   "cell_type": "code",
   "execution_count": 62,
   "id": "4d542961",
   "metadata": {},
   "outputs": [],
   "source": [
    "# reading the CSV in pandas\n",
    "dept_emp_df = pd.read_csv(file, encoding=\"ISO-8859-1\")"
   ]
  },
  {
   "cell_type": "code",
   "execution_count": 63,
   "id": "012a8557",
   "metadata": {},
   "outputs": [
    {
     "name": "stdout",
     "output_type": "stream",
     "text": [
      "<class 'pandas.core.frame.DataFrame'>\n",
      "RangeIndex: 331603 entries, 0 to 331602\n",
      "Data columns (total 2 columns):\n",
      " #   Column   Non-Null Count   Dtype \n",
      "---  ------   --------------   ----- \n",
      " 0   emp_no   331603 non-null  int64 \n",
      " 1   dept_no  331603 non-null  object\n",
      "dtypes: int64(1), object(1)\n",
      "memory usage: 5.1+ MB\n"
     ]
    }
   ],
   "source": [
    "dept_emp_df.info()"
   ]
  },
  {
   "cell_type": "code",
   "execution_count": 64,
   "id": "8ebe3416",
   "metadata": {},
   "outputs": [
    {
     "name": "stdout",
     "output_type": "stream",
     "text": [
      "9          10010\n",
      "10         10010\n",
      "18         10018\n",
      "19         10018\n",
      "30         10029\n",
      "           ...  \n",
      "331576    499975\n",
      "331584    499983\n",
      "331585    499983\n",
      "331594    499992\n",
      "331595    499992\n",
      "Name: emp_no, Length: 63158, dtype: int64\n"
     ]
    }
   ],
   "source": [
    "# Check for duplicates in a \"dept_emp_df\" dataframe in \"emp_no\" column\n",
    "duplicates = dept_emp_df[dept_emp_df.duplicated(subset='emp_no', keep=False)]\n",
    "\n",
    "# Print the duplicate values\n",
    "print(duplicates['emp_no'])"
   ]
  },
  {
   "cell_type": "code",
   "execution_count": 65,
   "id": "1b3d7a5f",
   "metadata": {},
   "outputs": [
    {
     "name": "stdout",
     "output_type": "stream",
     "text": [
      "0         d005\n",
      "1         d007\n",
      "2         d004\n",
      "3         d004\n",
      "4         d003\n",
      "          ... \n",
      "331598    d004\n",
      "331599    d004\n",
      "331600    d005\n",
      "331601    d002\n",
      "331602    d004\n",
      "Name: dept_no, Length: 331603, dtype: object\n"
     ]
    }
   ],
   "source": [
    "# Check for duplicates in a \"dept_emp_df\" dataframe in \"dept_no\" column\n",
    "duplicates = dept_emp_df[dept_emp_df.duplicated(subset='dept_no', keep=False)]\n",
    "\n",
    "# Print the duplicate values\n",
    "print(duplicates['dept_no'])"
   ]
  },
  {
   "cell_type": "code",
   "execution_count": 66,
   "id": "2fc39342",
   "metadata": {},
   "outputs": [
    {
     "name": "stdout",
     "output_type": "stream",
     "text": [
      "        emp_no  dept_no\n",
      "0        False    False\n",
      "1        False    False\n",
      "2        False    False\n",
      "3        False    False\n",
      "4        False    False\n",
      "...        ...      ...\n",
      "331598   False    False\n",
      "331599   False    False\n",
      "331600   False    False\n",
      "331601   False    False\n",
      "331602   False    False\n",
      "\n",
      "[331603 rows x 2 columns]\n"
     ]
    }
   ],
   "source": [
    "# Check for missing values in the dept_emp_df DataFrame\n",
    "missing_values =dept_emp_df.isnull()\n",
    "\n",
    "# Print the DataFrame with True for missing values\n",
    "print(missing_values)"
   ]
  },
  {
   "cell_type": "markdown",
   "id": "ae7bafe5",
   "metadata": {},
   "source": [
    "## Analysis"
   ]
  },
  {
   "cell_type": "markdown",
   "id": "dc680949",
   "metadata": {},
   "source": [
    "Based on the calculations above , we came to know that **dept_emp** table has no null values, but they also dont have single primary key, as both columns have duplicate value. Hence considering the importance of primary key, here we will create a **composite key using both 'emp_no' and 'dept_no' columns to ensure the uniqueness of each row in the 'dept_emp' table** based on the combination of employee numbers and department numbers."
   ]
  },
  {
   "cell_type": "markdown",
   "id": "e08146e1",
   "metadata": {},
   "source": [
    "### 4. dept_manager table"
   ]
  },
  {
   "cell_type": "code",
   "execution_count": 67,
   "id": "9bf21557",
   "metadata": {},
   "outputs": [],
   "source": [
    "# Finding path to the CSV file\n",
    "file = Path('Resources/dept_manager.csv')"
   ]
  },
  {
   "cell_type": "code",
   "execution_count": 68,
   "id": "9ba7626d",
   "metadata": {},
   "outputs": [],
   "source": [
    "# reading the CSV in pandas\n",
    "dept_manager_df = pd.read_csv(file, encoding=\"ISO-8859-1\")"
   ]
  },
  {
   "cell_type": "code",
   "execution_count": 69,
   "id": "0ff7b76e",
   "metadata": {},
   "outputs": [
    {
     "name": "stdout",
     "output_type": "stream",
     "text": [
      "<class 'pandas.core.frame.DataFrame'>\n",
      "RangeIndex: 24 entries, 0 to 23\n",
      "Data columns (total 2 columns):\n",
      " #   Column   Non-Null Count  Dtype \n",
      "---  ------   --------------  ----- \n",
      " 0   dept_no  24 non-null     object\n",
      " 1   emp_no   24 non-null     int64 \n",
      "dtypes: int64(1), object(1)\n",
      "memory usage: 512.0+ bytes\n"
     ]
    }
   ],
   "source": [
    "dept_manager_df.info()"
   ]
  },
  {
   "cell_type": "code",
   "execution_count": 70,
   "id": "d51f8f88",
   "metadata": {},
   "outputs": [
    {
     "name": "stdout",
     "output_type": "stream",
     "text": [
      "0     d001\n",
      "1     d001\n",
      "2     d002\n",
      "3     d002\n",
      "4     d003\n",
      "5     d003\n",
      "6     d004\n",
      "7     d004\n",
      "8     d004\n",
      "9     d004\n",
      "10    d005\n",
      "11    d005\n",
      "12    d006\n",
      "13    d006\n",
      "14    d006\n",
      "15    d006\n",
      "16    d007\n",
      "17    d007\n",
      "18    d008\n",
      "19    d008\n",
      "20    d009\n",
      "21    d009\n",
      "22    d009\n",
      "23    d009\n",
      "Name: dept_no, dtype: object\n"
     ]
    }
   ],
   "source": [
    "# Check for duplicates in a \"dept_manager_df\" in the dept_no column\n",
    "duplicates = dept_manager_df[dept_manager_df.duplicated(subset='dept_no', keep=False)]\n",
    "\n",
    "# Print the duplicate values\n",
    "print(duplicates['dept_no'])"
   ]
  },
  {
   "cell_type": "code",
   "execution_count": 71,
   "id": "6a015fa8",
   "metadata": {},
   "outputs": [
    {
     "name": "stdout",
     "output_type": "stream",
     "text": [
      "Series([], Name: emp_no, dtype: int64)\n"
     ]
    }
   ],
   "source": [
    "# Check for duplicates in a \"dept_manager_df\" in the emp_no column\n",
    "duplicates = dept_manager_df[dept_manager_df.duplicated(subset='emp_no', keep=False)]\n",
    "\n",
    "# Print the duplicate values\n",
    "print(duplicates['emp_no'])"
   ]
  },
  {
   "cell_type": "code",
   "execution_count": 72,
   "id": "afa23e70",
   "metadata": {
    "scrolled": true
   },
   "outputs": [
    {
     "name": "stdout",
     "output_type": "stream",
     "text": [
      "    dept_no  emp_no\n",
      "0     False   False\n",
      "1     False   False\n",
      "2     False   False\n",
      "3     False   False\n",
      "4     False   False\n",
      "5     False   False\n",
      "6     False   False\n",
      "7     False   False\n",
      "8     False   False\n",
      "9     False   False\n",
      "10    False   False\n",
      "11    False   False\n",
      "12    False   False\n",
      "13    False   False\n",
      "14    False   False\n",
      "15    False   False\n",
      "16    False   False\n",
      "17    False   False\n",
      "18    False   False\n",
      "19    False   False\n",
      "20    False   False\n",
      "21    False   False\n",
      "22    False   False\n",
      "23    False   False\n"
     ]
    }
   ],
   "source": [
    "# Check for missing values in the dept_manager_df DataFrame\n",
    "missing_values =dept_manager_df.isnull()\n",
    "\n",
    "# Print the DataFrame with True for missing values\n",
    "print(missing_values)"
   ]
  },
  {
   "cell_type": "markdown",
   "id": "5e088771",
   "metadata": {},
   "source": [
    "## Analysis"
   ]
  },
  {
   "cell_type": "markdown",
   "id": "7a5b1ea6",
   "metadata": {},
   "source": [
    "Based on the calculations above , we came to know that **dept_manager** table has no null values.Likewise, here, column 'dept_no' had many duplicate values while'emp_no' has no duplicate values and also no null values making it a perfect primary key for this particular table.**Hence emp_no is our primary key in the dept_manager table.**\n"
   ]
  },
  {
   "cell_type": "markdown",
   "id": "a7059271",
   "metadata": {},
   "source": [
    "### 5. employees table"
   ]
  },
  {
   "cell_type": "code",
   "execution_count": 73,
   "id": "7da68647",
   "metadata": {},
   "outputs": [],
   "source": [
    "# Finding path to the CSV file\n",
    "file = Path('Resources/employees.csv')"
   ]
  },
  {
   "cell_type": "code",
   "execution_count": 74,
   "id": "97137237",
   "metadata": {},
   "outputs": [],
   "source": [
    "# reading the CSV in pandas\n",
    "employees_df = pd.read_csv(file, encoding=\"ISO-8859-1\")"
   ]
  },
  {
   "cell_type": "code",
   "execution_count": 75,
   "id": "bae5053a",
   "metadata": {},
   "outputs": [
    {
     "name": "stdout",
     "output_type": "stream",
     "text": [
      "<class 'pandas.core.frame.DataFrame'>\n",
      "RangeIndex: 300024 entries, 0 to 300023\n",
      "Data columns (total 7 columns):\n",
      " #   Column        Non-Null Count   Dtype \n",
      "---  ------        --------------   ----- \n",
      " 0   emp_no        300024 non-null  int64 \n",
      " 1   emp_title_id  300024 non-null  object\n",
      " 2   birth_date    300024 non-null  object\n",
      " 3   first_name    300024 non-null  object\n",
      " 4   last_name     300024 non-null  object\n",
      " 5   sex           300024 non-null  object\n",
      " 6   hire_date     300024 non-null  object\n",
      "dtypes: int64(1), object(6)\n",
      "memory usage: 16.0+ MB\n"
     ]
    }
   ],
   "source": [
    "employees_df.info()"
   ]
  },
  {
   "cell_type": "code",
   "execution_count": 80,
   "id": "e0c2b807",
   "metadata": {},
   "outputs": [],
   "source": [
    "#changing data type of 'birth_date' & 'hire_date' to date data type\n",
    "employees_df[\"birth_date\"] = pd.to_datetime(employees_df[\"birth_date\"])\n",
    "employees_df[\"hire_date\"] = pd.to_datetime(employees_df[\"hire_date\"])"
   ]
  },
  {
   "cell_type": "code",
   "execution_count": 81,
   "id": "416c28d7",
   "metadata": {},
   "outputs": [
    {
     "name": "stdout",
     "output_type": "stream",
     "text": [
      "<class 'pandas.core.frame.DataFrame'>\n",
      "RangeIndex: 300024 entries, 0 to 300023\n",
      "Data columns (total 7 columns):\n",
      " #   Column        Non-Null Count   Dtype         \n",
      "---  ------        --------------   -----         \n",
      " 0   emp_no        300024 non-null  int64         \n",
      " 1   emp_title_id  300024 non-null  object        \n",
      " 2   birth_date    300024 non-null  datetime64[ns]\n",
      " 3   first_name    300024 non-null  object        \n",
      " 4   last_name     300024 non-null  object        \n",
      " 5   sex           300024 non-null  object        \n",
      " 6   hire_date     300024 non-null  datetime64[ns]\n",
      "dtypes: datetime64[ns](2), int64(1), object(4)\n",
      "memory usage: 16.0+ MB\n"
     ]
    }
   ],
   "source": [
    "employees_df.info()"
   ]
  },
  {
   "cell_type": "code",
   "execution_count": 82,
   "id": "7f5a9f7d",
   "metadata": {},
   "outputs": [
    {
     "name": "stdout",
     "output_type": "stream",
     "text": [
      "Series([], Name: emp_no, dtype: int64)\n"
     ]
    }
   ],
   "source": [
    "# Check for duplicates in a \"employees_df\" in the emp_no column\n",
    "duplicates = employees_df[employees_df.duplicated(subset='emp_no', keep=False)]\n",
    "\n",
    "# Print the duplicate values\n",
    "print(duplicates['emp_no'])"
   ]
  },
  {
   "cell_type": "markdown",
   "id": "69a82a42",
   "metadata": {},
   "source": [
    "## Analysis"
   ]
  },
  {
   "cell_type": "markdown",
   "id": "010bb70f",
   "metadata": {},
   "source": [
    "Based on the calculations above , we came to know that **employees** table has no null values.Likewise, here, column 'emp_no' has no duplicates and also no null values making it a perfect primary key for this particular table.**Hence emp_no is our primary key in the employees table.**\n"
   ]
  },
  {
   "cell_type": "markdown",
   "id": "fd49025c",
   "metadata": {},
   "source": [
    "### 6. salaries table"
   ]
  },
  {
   "cell_type": "code",
   "execution_count": null,
   "id": "e79b0d05",
   "metadata": {},
   "outputs": [],
   "source": [
    "# Finding path to the CSV file\n",
    "file = Path('Resources/salaries.csv')"
   ]
  },
  {
   "cell_type": "code",
   "execution_count": null,
   "id": "466f8b55",
   "metadata": {},
   "outputs": [],
   "source": [
    "# reading the CSV in pandas\n",
    "salaries_df = pd.read_csv(file, encoding=\"ISO-8859-1\")"
   ]
  },
  {
   "cell_type": "code",
   "execution_count": null,
   "id": "0314bcbb",
   "metadata": {},
   "outputs": [],
   "source": [
    "salaries_df.info()"
   ]
  },
  {
   "cell_type": "code",
   "execution_count": null,
   "id": "5dd13eee",
   "metadata": {},
   "outputs": [],
   "source": [
    "# Check for duplicates in a \"salaries_df\" in the emp_no column\n",
    "duplicates = employees_df[dept_manager_df.duplicated(subset='emp_no', keep=False)]\n",
    "\n",
    "# Print the duplicate values\n",
    "print(duplicates['emp_no'])"
   ]
  },
  {
   "cell_type": "markdown",
   "id": "bd06ce83",
   "metadata": {},
   "source": [
    "## Analysis"
   ]
  },
  {
   "cell_type": "markdown",
   "id": "9ff1c4b8",
   "metadata": {},
   "source": [
    "Based on the calculations, we see that there are no null values in the table and also emp_no has no duplicates making it eligible for a primary key. **Hence emp_no is our primary key in the salaries table.**"
   ]
  },
  {
   "cell_type": "code",
   "execution_count": null,
   "id": "fd667281",
   "metadata": {},
   "outputs": [],
   "source": []
  }
 ],
 "metadata": {
  "kernelspec": {
   "display_name": "Python 3 (ipykernel)",
   "language": "python",
   "name": "python3"
  },
  "language_info": {
   "codemirror_mode": {
    "name": "ipython",
    "version": 3
   },
   "file_extension": ".py",
   "mimetype": "text/x-python",
   "name": "python",
   "nbconvert_exporter": "python",
   "pygments_lexer": "ipython3",
   "version": "3.10.13"
  }
 },
 "nbformat": 4,
 "nbformat_minor": 5
}
